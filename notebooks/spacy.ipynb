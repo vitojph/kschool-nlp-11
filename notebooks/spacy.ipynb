{
 "cells": [
  {
   "cell_type": "markdown",
   "metadata": {},
   "source": [
    "# `spacy`: el *Ruby on Rails* del PLN\n",
    "\n",
    "[spacy](http://www.spacy.io/) es una librería de procesamiento del lenguaje natural, robusta, rápida, fácil de instalar y utilizar e integrable con [otras librerías de *NLP* y de *deep learning*](https://spacy.io/usage/facts-figures#section-other-libraries). \n",
    "\n",
    "Tiene modelos entrenados en varios idiomas y permite realizar las [típicas tareas](https://spacy.io/usage/facts-figures) de segmentación por oraciones, tokenizanción, análisis morfológico, extracción de entidades y análisis de opinión.\n",
    "\n",
    "Veamos cómo funciona. Lo primero es instalar algunos modelos, en inglés y español. Desde la línea de comandos, ejecuta:"
   ]
  },
  {
   "cell_type": "code",
   "execution_count": 1,
   "metadata": {},
   "outputs": [
    {
     "name": "stdout",
     "output_type": "stream",
     "text": [
      "Requirement already satisfied: en_core_web_sm==2.0.0 from https://github.com/explosion/spacy-models/releases/download/en_core_web_sm-2.0.0/en_core_web_sm-2.0.0.tar.gz#egg=en_core_web_sm==2.0.0 in /home/victor/.virtualenvs/ds/lib/python3.6/site-packages (2.0.0)\n",
      "\n",
      "\u001b[93m    Linking successful\u001b[0m\n",
      "    /home/victor/.virtualenvs/ds/lib/python3.6/site-packages/en_core_web_sm\n",
      "    -->\n",
      "    /home/victor/.virtualenvs/ds/lib/python3.6/site-packages/spacy/data/en\n",
      "\n",
      "    You can now load the model via spacy.load('en')\n",
      "\n",
      "[sudo] contraseña para victor: \n"
     ]
    }
   ],
   "source": [
    "#!python3 -m spacy download en\n",
    "#!sudo python3 -m spacy download es"
   ]
  },
  {
   "cell_type": "code",
   "execution_count": 1,
   "metadata": {},
   "outputs": [],
   "source": [
    "import spacy\n",
    "\n",
    "nlp = spacy.load('es')"
   ]
  },
  {
   "cell_type": "markdown",
   "metadata": {},
   "source": [
    "Una vez instalados los modelos, podemos importarlos fácilmente:"
   ]
  },
  {
   "cell_type": "code",
   "execution_count": 5,
   "metadata": {},
   "outputs": [],
   "source": [
    "import spacy\n",
    "\n",
    "# cargamos el modelo entrenado en español\n",
    "nlp = spacy.load('es')\n",
    "\n",
    "texto = '''España incumple la regla del déficit del euro y queda como único país bajo el control de Bruselas. \n",
    "España no aprobará finalmente la regla europa del déficit y se quedará como único país de la Eurozona que \n",
    "suspende y sigue bajo vigilancia. El Gobierno se salta finalmente el requisito de saneamiento presupuestario \n",
    "del Tratado de Maastricht y obtiene así más margen de gasto en 2018.'''\n",
    "\n",
    "texto2 = \"\"\"Luciano Benetton (Treviso, 1935) se presenta a la cita con una camisa blanca impoluta, \n",
    "sus perennes pantalones color crema y sus inconfundibles gafas ovaladas. A sus 83 años se encuentra \n",
    "en espléndida forma.\"\"\"\n",
    "\n",
    "# y procesamos el texto\n",
    "doc = nlp(texto)\n",
    "\n",
    "doc2 = nlp(texto2)\n"
   ]
  },
  {
   "cell_type": "markdown",
   "metadata": {},
   "source": [
    "## Procesando oraciones, palabras y entidades\n",
    "\n",
    "Podemos iterar fácilmente sobre la lista de oraciones y recorrer los tokens para acceder a su información morfo-sintáctica:"
   ]
  },
  {
   "cell_type": "code",
   "execution_count": 6,
   "metadata": {},
   "outputs": [
    {
     "name": "stdout",
     "output_type": "stream",
     "text": [
      "Oración: Luciano Benetton (Treviso, 1935) se presenta a la cita con una camisa blanca impoluta, \n",
      "sus perennes pantalones color crema y sus inconfundibles gafas ovaladas.\n",
      "Luciano/Luciano' => etiqueta PROPN/PROPN___ y dependencia nsubj\n",
      "Benetton/Benetton' => etiqueta PROPN/PROPN___ y dependencia flat\n",
      "(/(' => etiqueta PUNCT/PUNCT__PunctSide=Ini|PunctType=Brck y dependencia punct\n",
      "Treviso/Treviso' => etiqueta PROPN/PROPN___ y dependencia flat\n",
      ",/,' => etiqueta PUNCT/PUNCT__PunctType=Comm y dependencia punct\n",
      "1935/1935' => etiqueta NOUN/NOUN__AdvType=Tim y dependencia appos\n",
      ")/)' => etiqueta PUNCT/PUNCT__PunctSide=Fin|PunctType=Brck y dependencia punct\n",
      "se/se' => etiqueta PRON/PRON__Person=3 y dependencia obj\n",
      "presenta/presentar' => etiqueta VERB/VERB__Mood=Ind|Number=Sing|Person=3|Tense=Pres|VerbForm=Fin y dependencia ROOT\n",
      "a/a' => etiqueta ADP/ADP__AdpType=Prep y dependencia case\n",
      "la/lo' => etiqueta DET/DET__Definite=Def|Gender=Fem|Number=Sing|PronType=Art y dependencia det\n",
      "cita/citar' => etiqueta NOUN/NOUN__Gender=Fem|Number=Sing y dependencia obj\n",
      "con/con' => etiqueta ADP/ADP__AdpType=Prep y dependencia case\n",
      "una/uno' => etiqueta DET/DET__Definite=Ind|Gender=Fem|Number=Sing|PronType=Art y dependencia det\n",
      "camisa/camisa' => etiqueta NOUN/NOUN__Gender=Fem|Number=Sing y dependencia obl\n",
      "blanca/blanco' => etiqueta ADJ/ADJ__Gender=Fem|Number=Sing y dependencia amod\n",
      "impoluta/impoluto' => etiqueta ADJ/ADJ__Gender=Fem|Number=Sing y dependencia amod\n",
      ",/,' => etiqueta PUNCT/PUNCT__PunctType=Comm y dependencia punct\n",
      "\n",
      "/\n",
      "' => etiqueta SPACE/ y dependencia \n",
      "sus/su' => etiqueta DET/DET__Number=Plur|Person=3|Poss=Yes|PronType=Prs y dependencia det\n",
      "perennes/perenne' => etiqueta NOUN/NOUN__Gender=Fem|Number=Plur y dependencia amod\n",
      "pantalones/pantalón' => etiqueta ADJ/ADJ__Number=Plur y dependencia appos\n",
      "color/color' => etiqueta NOUN/NOUN__Gender=Masc|Number=Sing y dependencia amod\n",
      "crema/crema' => etiqueta ADJ/ADJ__Gender=Masc|Number=Sing y dependencia amod\n",
      "y/y' => etiqueta CONJ/CCONJ___ y dependencia cc\n",
      "sus/su' => etiqueta DET/DET__Number=Plur|Person=3|Poss=Yes|PronType=Prs y dependencia det\n",
      "inconfundibles/inconfundible' => etiqueta ADJ/ADJ__Number=Plur y dependencia amod\n",
      "gafas/gafo' => etiqueta NOUN/NOUN__Gender=Fem|Number=Plur y dependencia conj\n",
      "ovaladas/ovalar' => etiqueta ADJ/ADJ__Gender=Fem|Number=Plur|VerbForm=Part y dependencia amod\n",
      "./.' => etiqueta PUNCT/PUNCT__PunctType=Peri y dependencia punct\n",
      "Oración: A sus 83 años se encuentra \n",
      "en espléndida forma.\n",
      "A/A' => etiqueta ADP/ADP__AdpType=Prep y dependencia case\n",
      "sus/su' => etiqueta PRON/PRON__Number=Plur|Person=3|Poss=Yes|PronType=Prs y dependencia nmod\n",
      "83/83' => etiqueta NUM/NUM__NumForm=Digit y dependencia nummod\n",
      "años/año' => etiqueta NOUN/NOUN__Gender=Masc|Number=Plur y dependencia obl\n",
      "se/se' => etiqueta PRON/PRON__Person=3 y dependencia obj\n",
      "encuentra/encontrar' => etiqueta VERB/VERB__Mood=Ind|Number=Sing|Person=3|Tense=Pres|VerbForm=Fin y dependencia ROOT\n",
      "\n",
      "/\n",
      "' => etiqueta SPACE/ y dependencia \n",
      "en/en' => etiqueta ADP/ADP__AdpType=Prep y dependencia case\n",
      "espléndida/espléndido' => etiqueta ADJ/ADJ__Gender=Fem|Number=Sing|VerbForm=Part y dependencia amod\n",
      "forma/formar' => etiqueta NOUN/NOUN__Gender=Fem|Number=Sing y dependencia obl\n",
      "./.' => etiqueta PUNCT/PUNCT__PunctType=Peri y dependencia punct\n"
     ]
    }
   ],
   "source": [
    "for sentence in doc2.sents:\n",
    "    print('Oración: {}'.format(sentence))\n",
    "    for token in sentence:\n",
    "        print(\"{}/{}' => etiqueta {}/{} y dependencia {}\".format(token, token.lemma_, token.pos_, token.tag_, token.dep_))"
   ]
  },
  {
   "cell_type": "markdown",
   "metadata": {},
   "source": [
    "El elemeno `doc` tiene una propiedad `.ents` que permite acceder a las entidades nombradas que hayan sido localizadas:"
   ]
  },
  {
   "cell_type": "code",
   "execution_count": 8,
   "metadata": {},
   "outputs": [
    {
     "name": "stdout",
     "output_type": "stream",
     "text": [
      "España es de tipo PER\n",
      "Bruselas es de tipo LOC\n",
      "\n",
      " es de tipo ORG\n",
      "España es de tipo LOC\n",
      "Eurozona es de tipo LOC\n",
      "\n",
      " es de tipo ORG\n",
      "El Gobierno es de tipo MISC\n",
      "\n",
      " es de tipo ORG\n",
      "Tratado de Maastricht es de tipo MISC\n",
      "Luciano Benetton es de tipo PER\n",
      "Treviso es de tipo LOC\n",
      "\n",
      " es de tipo ORG\n",
      "A sus 83 años es de tipo MISC\n",
      "\n",
      " es de tipo ORG\n"
     ]
    }
   ],
   "source": [
    "for entity in doc.ents:\n",
    "    print('{} es de tipo {}'.format(entity, entity.label_))\n",
    "    \n",
    "\n",
    "for entity in doc2.ents:\n",
    "    print('{} es de tipo {}'.format(entity, entity.label_))    \n",
    "    "
   ]
  },
  {
   "cell_type": "markdown",
   "metadata": {},
   "source": [
    "## Visualizando árboles de dependencias y entidades\n",
    "\n",
    "Podemos acceder al árbol completo a través del método `.print_tree()`:"
   ]
  },
  {
   "cell_type": "code",
   "execution_count": 9,
   "metadata": {},
   "outputs": [
    {
     "data": {
      "text/plain": [
       "[{'word': 'presenta',\n",
       "  'lemma': 'presentar',\n",
       "  'NE': '',\n",
       "  'POS_fine': 'VERB__Mood=Ind|Number=Sing|Person=3|Tense=Pres|VerbForm=Fin',\n",
       "  'POS_coarse': 'VERB',\n",
       "  'arc': 'ROOT',\n",
       "  'modifiers': [{'word': 'Luciano Benetton',\n",
       "    'lemma': 'Luciano Benetton',\n",
       "    'NE': 'PER',\n",
       "    'POS_fine': 'PROPN___',\n",
       "    'POS_coarse': 'PROPN',\n",
       "    'arc': 'nsubj',\n",
       "    'modifiers': [{'word': 'Treviso',\n",
       "      'lemma': 'Treviso',\n",
       "      'NE': 'LOC',\n",
       "      'POS_fine': 'PROPN___',\n",
       "      'POS_coarse': 'PROPN',\n",
       "      'arc': 'flat',\n",
       "      'modifiers': [{'word': '(',\n",
       "        'lemma': '(',\n",
       "        'NE': '',\n",
       "        'POS_fine': 'PUNCT__PunctSide=Ini|PunctType=Brck',\n",
       "        'POS_coarse': 'PUNCT',\n",
       "        'arc': 'punct',\n",
       "        'modifiers': []},\n",
       "       {'word': '1935',\n",
       "        'lemma': '1935',\n",
       "        'NE': '',\n",
       "        'POS_fine': 'NOUN__AdvType=Tim',\n",
       "        'POS_coarse': 'NOUN',\n",
       "        'arc': 'appos',\n",
       "        'modifiers': [{'word': ',',\n",
       "          'lemma': ',',\n",
       "          'NE': '',\n",
       "          'POS_fine': 'PUNCT__PunctType=Comm',\n",
       "          'POS_coarse': 'PUNCT',\n",
       "          'arc': 'punct',\n",
       "          'modifiers': []}]},\n",
       "       {'word': ')',\n",
       "        'lemma': ')',\n",
       "        'NE': '',\n",
       "        'POS_fine': 'PUNCT__PunctSide=Fin|PunctType=Brck',\n",
       "        'POS_coarse': 'PUNCT',\n",
       "        'arc': 'punct',\n",
       "        'modifiers': []}]}]},\n",
       "   {'word': 'se',\n",
       "    'lemma': 'se',\n",
       "    'NE': '',\n",
       "    'POS_fine': 'PRON__Person=3',\n",
       "    'POS_coarse': 'PRON',\n",
       "    'arc': 'obj',\n",
       "    'modifiers': []},\n",
       "   {'word': 'cita',\n",
       "    'lemma': 'citar',\n",
       "    'NE': '',\n",
       "    'POS_fine': 'NOUN__Gender=Fem|Number=Sing',\n",
       "    'POS_coarse': 'NOUN',\n",
       "    'arc': 'obj',\n",
       "    'modifiers': [{'word': 'a',\n",
       "      'lemma': 'a',\n",
       "      'NE': '',\n",
       "      'POS_fine': 'ADP__AdpType=Prep',\n",
       "      'POS_coarse': 'ADP',\n",
       "      'arc': 'case',\n",
       "      'modifiers': []},\n",
       "     {'word': 'la',\n",
       "      'lemma': 'lo',\n",
       "      'NE': '',\n",
       "      'POS_fine': 'DET__Definite=Def|Gender=Fem|Number=Sing|PronType=Art',\n",
       "      'POS_coarse': 'DET',\n",
       "      'arc': 'det',\n",
       "      'modifiers': []}]},\n",
       "   {'word': 'camisa',\n",
       "    'lemma': 'camisa',\n",
       "    'NE': '',\n",
       "    'POS_fine': 'NOUN__Gender=Fem|Number=Sing',\n",
       "    'POS_coarse': 'NOUN',\n",
       "    'arc': 'obl',\n",
       "    'modifiers': [{'word': 'con',\n",
       "      'lemma': 'con',\n",
       "      'NE': '',\n",
       "      'POS_fine': 'ADP__AdpType=Prep',\n",
       "      'POS_coarse': 'ADP',\n",
       "      'arc': 'case',\n",
       "      'modifiers': []},\n",
       "     {'word': 'una',\n",
       "      'lemma': 'uno',\n",
       "      'NE': '',\n",
       "      'POS_fine': 'DET__Definite=Ind|Gender=Fem|Number=Sing|PronType=Art',\n",
       "      'POS_coarse': 'DET',\n",
       "      'arc': 'det',\n",
       "      'modifiers': []},\n",
       "     {'word': 'blanca',\n",
       "      'lemma': 'blanco',\n",
       "      'NE': '',\n",
       "      'POS_fine': 'ADJ__Gender=Fem|Number=Sing',\n",
       "      'POS_coarse': 'ADJ',\n",
       "      'arc': 'amod',\n",
       "      'modifiers': []},\n",
       "     {'word': 'impoluta',\n",
       "      'lemma': 'impoluto',\n",
       "      'NE': '',\n",
       "      'POS_fine': 'ADJ__Gender=Fem|Number=Sing',\n",
       "      'POS_coarse': 'ADJ',\n",
       "      'arc': 'amod',\n",
       "      'modifiers': []},\n",
       "     {'word': 'pantalones',\n",
       "      'lemma': 'pantalón',\n",
       "      'NE': '',\n",
       "      'POS_fine': 'ADJ__Number=Plur',\n",
       "      'POS_coarse': 'ADJ',\n",
       "      'arc': 'appos',\n",
       "      'modifiers': [{'word': ',',\n",
       "        'lemma': ',',\n",
       "        'NE': '',\n",
       "        'POS_fine': 'PUNCT__PunctType=Comm',\n",
       "        'POS_coarse': 'PUNCT',\n",
       "        'arc': 'punct',\n",
       "        'modifiers': [{'word': '\\n',\n",
       "          'lemma': '\\n',\n",
       "          'NE': 'ORG',\n",
       "          'POS_fine': '',\n",
       "          'POS_coarse': '',\n",
       "          'arc': '',\n",
       "          'modifiers': []}]},\n",
       "       {'word': 'perennes',\n",
       "        'lemma': 'perenne',\n",
       "        'NE': '',\n",
       "        'POS_fine': 'NOUN__Gender=Fem|Number=Plur',\n",
       "        'POS_coarse': 'NOUN',\n",
       "        'arc': 'amod',\n",
       "        'modifiers': [{'word': 'sus',\n",
       "          'lemma': 'su',\n",
       "          'NE': '',\n",
       "          'POS_fine': 'DET__Number=Plur|Person=3|Poss=Yes|PronType=Prs',\n",
       "          'POS_coarse': 'DET',\n",
       "          'arc': 'det',\n",
       "          'modifiers': []}]},\n",
       "       {'word': 'color',\n",
       "        'lemma': 'color',\n",
       "        'NE': '',\n",
       "        'POS_fine': 'NOUN__Gender=Masc|Number=Sing',\n",
       "        'POS_coarse': 'NOUN',\n",
       "        'arc': 'amod',\n",
       "        'modifiers': []},\n",
       "       {'word': 'crema',\n",
       "        'lemma': 'crema',\n",
       "        'NE': '',\n",
       "        'POS_fine': 'ADJ__Gender=Masc|Number=Sing',\n",
       "        'POS_coarse': 'ADJ',\n",
       "        'arc': 'amod',\n",
       "        'modifiers': [{'word': 'gafas',\n",
       "          'lemma': 'gafo',\n",
       "          'NE': '',\n",
       "          'POS_fine': 'NOUN__Gender=Fem|Number=Plur',\n",
       "          'POS_coarse': 'NOUN',\n",
       "          'arc': 'conj',\n",
       "          'modifiers': [{'word': 'y',\n",
       "            'lemma': 'y',\n",
       "            'NE': '',\n",
       "            'POS_fine': 'CCONJ___',\n",
       "            'POS_coarse': 'CONJ',\n",
       "            'arc': 'cc',\n",
       "            'modifiers': []},\n",
       "           {'word': 'sus',\n",
       "            'lemma': 'su',\n",
       "            'NE': '',\n",
       "            'POS_fine': 'DET__Number=Plur|Person=3|Poss=Yes|PronType=Prs',\n",
       "            'POS_coarse': 'DET',\n",
       "            'arc': 'det',\n",
       "            'modifiers': []},\n",
       "           {'word': 'inconfundibles',\n",
       "            'lemma': 'inconfundible',\n",
       "            'NE': '',\n",
       "            'POS_fine': 'ADJ__Number=Plur',\n",
       "            'POS_coarse': 'ADJ',\n",
       "            'arc': 'amod',\n",
       "            'modifiers': []},\n",
       "           {'word': 'ovaladas',\n",
       "            'lemma': 'ovalar',\n",
       "            'NE': '',\n",
       "            'POS_fine': 'ADJ__Gender=Fem|Number=Plur|VerbForm=Part',\n",
       "            'POS_coarse': 'ADJ',\n",
       "            'arc': 'amod',\n",
       "            'modifiers': []}]}]}]}]},\n",
       "   {'word': '.',\n",
       "    'lemma': '.',\n",
       "    'NE': '',\n",
       "    'POS_fine': 'PUNCT__PunctType=Peri',\n",
       "    'POS_coarse': 'PUNCT',\n",
       "    'arc': 'punct',\n",
       "    'modifiers': []}]},\n",
       " {'word': 'encuentra',\n",
       "  'lemma': 'encontrar',\n",
       "  'NE': '',\n",
       "  'POS_fine': 'VERB__Mood=Ind|Number=Sing|Person=3|Tense=Pres|VerbForm=Fin',\n",
       "  'POS_coarse': 'VERB',\n",
       "  'arc': 'ROOT',\n",
       "  'modifiers': [{'word': 'A sus 83 años',\n",
       "    'lemma': 'A sus 83 años',\n",
       "    'NE': 'MISC',\n",
       "    'POS_fine': 'NOUN__Gender=Masc|Number=Plur',\n",
       "    'POS_coarse': 'NOUN',\n",
       "    'arc': 'obl',\n",
       "    'modifiers': []},\n",
       "   {'word': 'se',\n",
       "    'lemma': 'se',\n",
       "    'NE': '',\n",
       "    'POS_fine': 'PRON__Person=3',\n",
       "    'POS_coarse': 'PRON',\n",
       "    'arc': 'obj',\n",
       "    'modifiers': []},\n",
       "   {'word': '\\n',\n",
       "    'lemma': '\\n',\n",
       "    'NE': 'ORG',\n",
       "    'POS_fine': '',\n",
       "    'POS_coarse': '',\n",
       "    'arc': '',\n",
       "    'modifiers': []},\n",
       "   {'word': 'forma',\n",
       "    'lemma': 'formar',\n",
       "    'NE': '',\n",
       "    'POS_fine': 'NOUN__Gender=Fem|Number=Sing',\n",
       "    'POS_coarse': 'NOUN',\n",
       "    'arc': 'obl',\n",
       "    'modifiers': [{'word': 'en',\n",
       "      'lemma': 'en',\n",
       "      'NE': '',\n",
       "      'POS_fine': 'ADP__AdpType=Prep',\n",
       "      'POS_coarse': 'ADP',\n",
       "      'arc': 'case',\n",
       "      'modifiers': []},\n",
       "     {'word': 'espléndida',\n",
       "      'lemma': 'espléndido',\n",
       "      'NE': '',\n",
       "      'POS_fine': 'ADJ__Gender=Fem|Number=Sing|VerbForm=Part',\n",
       "      'POS_coarse': 'ADJ',\n",
       "      'arc': 'amod',\n",
       "      'modifiers': []}]},\n",
       "   {'word': '.',\n",
       "    'lemma': '.',\n",
       "    'NE': '',\n",
       "    'POS_fine': 'PUNCT__PunctType=Peri',\n",
       "    'POS_coarse': 'PUNCT',\n",
       "    'arc': 'punct',\n",
       "    'modifiers': []}]}]"
      ]
     },
     "execution_count": 9,
     "metadata": {},
     "output_type": "execute_result"
    }
   ],
   "source": [
    "doc2.print_tree()"
   ]
  },
  {
   "cell_type": "markdown",
   "metadata": {},
   "source": [
    "Pero también se puede dibujar el grafo con las dependencias:"
   ]
  },
  {
   "cell_type": "code",
   "execution_count": 10,
   "metadata": {},
   "outputs": [
    {
     "name": "stdout",
     "output_type": "stream",
     "text": [
      "\n",
      "\u001b[93m    Serving on port 5000...\u001b[0m\n",
      "    Using the 'dep' visualizer\n",
      "\n"
     ]
    },
    {
     "name": "stderr",
     "output_type": "stream",
     "text": [
      "127.0.0.1 - - [02/Mar/2019 10:24:01] \"GET / HTTP/1.1\" 200 26332\n",
      "127.0.0.1 - - [02/Mar/2019 10:24:02] \"GET /favicon.ico HTTP/1.1\" 200 26332\n"
     ]
    },
    {
     "name": "stdout",
     "output_type": "stream",
     "text": [
      "\n",
      "    Shutting down server on port 5000.\n",
      "\n"
     ]
    }
   ],
   "source": [
    "from spacy import displacy\n",
    "displacy.serve(doc2, style='dep')"
   ]
  },
  {
   "cell_type": "markdown",
   "metadata": {},
   "source": [
    "O el de las entidades:"
   ]
  },
  {
   "cell_type": "code",
   "execution_count": 13,
   "metadata": {},
   "outputs": [
    {
     "name": "stdout",
     "output_type": "stream",
     "text": [
      "\n",
      "\u001b[93m    Serving on port 5000...\u001b[0m\n",
      "    Using the 'ent' visualizer\n",
      "\n"
     ]
    },
    {
     "name": "stderr",
     "output_type": "stream",
     "text": [
      "127.0.0.1 - - [02/Mar/2019 10:26:06] \"GET / HTTP/1.1\" 200 4263\n"
     ]
    },
    {
     "name": "stdout",
     "output_type": "stream",
     "text": [
      "\n",
      "    Shutting down server on port 5000.\n",
      "\n"
     ]
    }
   ],
   "source": [
    "from spacy import displacy\n",
    "displacy.serve(doc, style='ent')"
   ]
  },
  {
   "cell_type": "code",
   "execution_count": 14,
   "metadata": {},
   "outputs": [
    {
     "name": "stdout",
     "output_type": "stream",
     "text": [
      "\n",
      "\u001b[93m    Serving on port 5000...\u001b[0m\n",
      "    Using the 'ent' visualizer\n",
      "\n"
     ]
    },
    {
     "name": "stderr",
     "output_type": "stream",
     "text": [
      "127.0.0.1 - - [02/Mar/2019 10:29:01] \"GET / HTTP/1.1\" 200 3822\n"
     ]
    },
    {
     "name": "stdout",
     "output_type": "stream",
     "text": [
      "\n",
      "    Shutting down server on port 5000.\n",
      "\n"
     ]
    }
   ],
   "source": [
    "nlp_en = spacy.load('en')\n",
    "text = '''A trade war between the world’s two largest economies officially began on Friday morning as the Trump administration followed through with its threat to impose tariffs on $34 billion worth of Chinese products, a significant escalation of a fight that could hurt companies and consumers in both the United States and China.'''\n",
    "doc = nlp_en(text)\n",
    "displacy.serve(doc, style='ent')"
   ]
  },
  {
   "cell_type": "markdown",
   "metadata": {},
   "source": [
    "## Similitud semántica entre palabras, frases y documentos\n",
    "\n",
    "spaCy permite [calcular la similitud semántica](https://spacy.io/usage/vectors-similarity) entre cualquier par de objetos de tipo `Doc`, `Span` o `Token`. \n",
    "\n",
    "Ojo, La similitud semántica es un concepto algo subjetivo, pero en este caso se puede entender como la probabilidad de que dos palabras aparezcan en los mismos contextos."
   ]
  },
  {
   "cell_type": "code",
   "execution_count": 15,
   "metadata": {},
   "outputs": [
    {
     "name": "stdout",
     "output_type": "stream",
     "text": [
      "cats vs dogs 0.48946518\n",
      "research vs development 0.66385657\n",
      "cats vs development 0.12199358\n"
     ]
    }
   ],
   "source": [
    "# analizamos algunas colocaciones en inglés\n",
    "token1, _, token2 = nlp_en(\"cats and dogs\")\n",
    "token3, _, token4 = nlp_en(\"research and development\")\n",
    "\n",
    "# medimos la similitud semántica entre algunos pares\n",
    "print(token1, \"vs\", token2, token1.similarity(token2))\n",
    "print(token3, \"vs\", token4, token3.similarity(token4))\n",
    "print(token1, \"vs\", token4, token1.similarity(token4))"
   ]
  },
  {
   "cell_type": "code",
   "execution_count": 16,
   "metadata": {},
   "outputs": [
    {
     "name": "stdout",
     "output_type": "stream",
     "text": [
      "perros vs gatos 0.63729906\n",
      "investigación vs desarrollo 0.25863796\n",
      "perros vs desarrollo 0.20336218\n"
     ]
    }
   ],
   "source": [
    "# ¿qué tal funciona en español?\n",
    "token1, _, token2 = nlp(\"perros y gatos\")\n",
    "token3, _, token4 = nlp(\"investigación y desarrollo\")\n",
    "\n",
    "# medimos la similitud semántica entre algunos pares\n",
    "print(token1, \"vs\", token2, token1.similarity(token2))\n",
    "print(token3, \"vs\", token4, token3.similarity(token4))\n",
    "print(token1, \"vs\", token4, token1.similarity(token4))"
   ]
  }
 ],
 "metadata": {
  "kernelspec": {
   "display_name": "Python 3",
   "language": "python",
   "name": "python3"
  },
  "language_info": {
   "codemirror_mode": {
    "name": "ipython",
    "version": 3
   },
   "file_extension": ".py",
   "mimetype": "text/x-python",
   "name": "python",
   "nbconvert_exporter": "python",
   "pygments_lexer": "ipython3",
   "version": "3.6.7"
  }
 },
 "nbformat": 4,
 "nbformat_minor": 2
}
