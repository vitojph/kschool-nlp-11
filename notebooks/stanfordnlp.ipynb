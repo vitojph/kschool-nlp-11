{
 "cells": [
  {
   "cell_type": "markdown",
   "metadata": {},
   "source": [
    "# `stanfordnlp`: la librería del grupo de Stanford\n",
    "\n",
    "El [Stanford NLP Group](https://nlp.stanford.edu/) es probablemente el grupo de ivnestigación en temas de NLP más grande y potente del mundo. Desde hace años desarrollan en Java un conjunto de herramientas básicas para procesar lenguaje natural en varias lenguas llamado [Stanford CoreNLP](https://stanfordnlp.github.io/CoreNLP/).\n",
    "\n",
    "Hace solo un par de meses, han liberado la librería en Python [`stanfordnlp`](https://stanfordnlp.github.io/stanfordnlp/), que incorpora los últimos avances y que permite interaccionar con su [Java Stanford CoreNLP server](https://stanfordnlp.github.io/CoreNLP/corenlp-server.html).\n",
    "\n",
    "Veamos cómo podemos acceder a algunas de sus funcionalidades."
   ]
  },
  {
   "cell_type": "code",
   "execution_count": null,
   "metadata": {},
   "outputs": [],
   "source": [
    "# asegúrate de tener instalada la herramienta\n",
    "!pip install stanfordnlp"
   ]
  },
  {
   "cell_type": "code",
   "execution_count": null,
   "metadata": {},
   "outputs": [],
   "source": [
    "import stanfordnlp\n",
    "\n",
    "# descarga algún modelo, por ejemplo el del castellano\n",
    "# ¡OJO! esto puede tardar muuucho tiempo\n",
    "stanfordnlp.download(\"es\",  resource_dir=\"/home/victor/data/models/\")"
   ]
  },
  {
   "cell_type": "code",
   "execution_count": null,
   "metadata": {},
   "outputs": [],
   "source": [
    "nlp = stanfordnlp.Pipeline(lang=\"es\", models_dir=\"/home/victor/tmp\") # This sets up a default neural pipeline in hebrew \n",
    "\n",
    "doc = nlp(\"El Gobierno del PP no conocía el dispositivo policial que se puso en marcha para evitar que se celebrase el referéndum del 1-O\")\n",
    "\n",
    "doc.sentences[0].print_dependencies()"
   ]
  }
 ],
 "metadata": {
  "kernelspec": {
   "display_name": "Python 3",
   "language": "python",
   "name": "python3"
  },
  "language_info": {
   "codemirror_mode": {
    "name": "ipython",
    "version": 3
   },
   "file_extension": ".py",
   "mimetype": "text/x-python",
   "name": "python",
   "nbconvert_exporter": "python",
   "pygments_lexer": "ipython3",
   "version": "3.6.7"
  }
 },
 "nbformat": 4,
 "nbformat_minor": 2
}
